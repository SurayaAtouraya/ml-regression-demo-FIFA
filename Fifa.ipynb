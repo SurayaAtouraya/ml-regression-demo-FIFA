{
 "cells": [
  {
   "cell_type": "code",
   "execution_count": 321,
   "metadata": {},
   "outputs": [],
   "source": [
    "# Predicting soccer player's value based on Fifa 19 data."
   ]
  },
  {
   "cell_type": "code",
   "execution_count": 463,
   "metadata": {},
   "outputs": [
    {
     "data": {
      "text/html": [
       "<div>\n",
       "<style scoped>\n",
       "    .dataframe tbody tr th:only-of-type {\n",
       "        vertical-align: middle;\n",
       "    }\n",
       "\n",
       "    .dataframe tbody tr th {\n",
       "        vertical-align: top;\n",
       "    }\n",
       "\n",
       "    .dataframe thead th {\n",
       "        text-align: right;\n",
       "    }\n",
       "</style>\n",
       "<table border=\"1\" class=\"dataframe\">\n",
       "  <thead>\n",
       "    <tr style=\"text-align: right;\">\n",
       "      <th></th>\n",
       "      <th>Unnamed: 0</th>\n",
       "      <th>ID</th>\n",
       "      <th>Name</th>\n",
       "      <th>Age</th>\n",
       "      <th>Photo</th>\n",
       "      <th>Nationality</th>\n",
       "      <th>Flag</th>\n",
       "      <th>Overall</th>\n",
       "      <th>Potential</th>\n",
       "      <th>Club</th>\n",
       "      <th>...</th>\n",
       "      <th>Composure</th>\n",
       "      <th>Marking</th>\n",
       "      <th>StandingTackle</th>\n",
       "      <th>SlidingTackle</th>\n",
       "      <th>GKDiving</th>\n",
       "      <th>GKHandling</th>\n",
       "      <th>GKKicking</th>\n",
       "      <th>GKPositioning</th>\n",
       "      <th>GKReflexes</th>\n",
       "      <th>Release Clause</th>\n",
       "    </tr>\n",
       "  </thead>\n",
       "  <tbody>\n",
       "    <tr>\n",
       "      <th>0</th>\n",
       "      <td>0</td>\n",
       "      <td>158023</td>\n",
       "      <td>L. Messi</td>\n",
       "      <td>31</td>\n",
       "      <td>https://cdn.sofifa.org/players/4/19/158023.png</td>\n",
       "      <td>Argentina</td>\n",
       "      <td>https://cdn.sofifa.org/flags/52.png</td>\n",
       "      <td>94</td>\n",
       "      <td>94</td>\n",
       "      <td>FC Barcelona</td>\n",
       "      <td>...</td>\n",
       "      <td>96.0</td>\n",
       "      <td>33.0</td>\n",
       "      <td>28.0</td>\n",
       "      <td>26.0</td>\n",
       "      <td>6.0</td>\n",
       "      <td>11.0</td>\n",
       "      <td>15.0</td>\n",
       "      <td>14.0</td>\n",
       "      <td>8.0</td>\n",
       "      <td>â¬226.5M</td>\n",
       "    </tr>\n",
       "    <tr>\n",
       "      <th>1</th>\n",
       "      <td>1</td>\n",
       "      <td>20801</td>\n",
       "      <td>Cristiano Ronaldo</td>\n",
       "      <td>33</td>\n",
       "      <td>https://cdn.sofifa.org/players/4/19/20801.png</td>\n",
       "      <td>Portugal</td>\n",
       "      <td>https://cdn.sofifa.org/flags/38.png</td>\n",
       "      <td>94</td>\n",
       "      <td>94</td>\n",
       "      <td>Juventus</td>\n",
       "      <td>...</td>\n",
       "      <td>95.0</td>\n",
       "      <td>28.0</td>\n",
       "      <td>31.0</td>\n",
       "      <td>23.0</td>\n",
       "      <td>7.0</td>\n",
       "      <td>11.0</td>\n",
       "      <td>15.0</td>\n",
       "      <td>14.0</td>\n",
       "      <td>11.0</td>\n",
       "      <td>â¬127.1M</td>\n",
       "    </tr>\n",
       "    <tr>\n",
       "      <th>2</th>\n",
       "      <td>2</td>\n",
       "      <td>190871</td>\n",
       "      <td>Neymar Jr</td>\n",
       "      <td>26</td>\n",
       "      <td>https://cdn.sofifa.org/players/4/19/190871.png</td>\n",
       "      <td>Brazil</td>\n",
       "      <td>https://cdn.sofifa.org/flags/54.png</td>\n",
       "      <td>92</td>\n",
       "      <td>93</td>\n",
       "      <td>Paris Saint-Germain</td>\n",
       "      <td>...</td>\n",
       "      <td>94.0</td>\n",
       "      <td>27.0</td>\n",
       "      <td>24.0</td>\n",
       "      <td>33.0</td>\n",
       "      <td>9.0</td>\n",
       "      <td>9.0</td>\n",
       "      <td>15.0</td>\n",
       "      <td>15.0</td>\n",
       "      <td>11.0</td>\n",
       "      <td>â¬228.1M</td>\n",
       "    </tr>\n",
       "    <tr>\n",
       "      <th>3</th>\n",
       "      <td>3</td>\n",
       "      <td>193080</td>\n",
       "      <td>De Gea</td>\n",
       "      <td>27</td>\n",
       "      <td>https://cdn.sofifa.org/players/4/19/193080.png</td>\n",
       "      <td>Spain</td>\n",
       "      <td>https://cdn.sofifa.org/flags/45.png</td>\n",
       "      <td>91</td>\n",
       "      <td>93</td>\n",
       "      <td>Manchester United</td>\n",
       "      <td>...</td>\n",
       "      <td>68.0</td>\n",
       "      <td>15.0</td>\n",
       "      <td>21.0</td>\n",
       "      <td>13.0</td>\n",
       "      <td>90.0</td>\n",
       "      <td>85.0</td>\n",
       "      <td>87.0</td>\n",
       "      <td>88.0</td>\n",
       "      <td>94.0</td>\n",
       "      <td>â¬138.6M</td>\n",
       "    </tr>\n",
       "    <tr>\n",
       "      <th>4</th>\n",
       "      <td>4</td>\n",
       "      <td>192985</td>\n",
       "      <td>K. De Bruyne</td>\n",
       "      <td>27</td>\n",
       "      <td>https://cdn.sofifa.org/players/4/19/192985.png</td>\n",
       "      <td>Belgium</td>\n",
       "      <td>https://cdn.sofifa.org/flags/7.png</td>\n",
       "      <td>91</td>\n",
       "      <td>92</td>\n",
       "      <td>Manchester City</td>\n",
       "      <td>...</td>\n",
       "      <td>88.0</td>\n",
       "      <td>68.0</td>\n",
       "      <td>58.0</td>\n",
       "      <td>51.0</td>\n",
       "      <td>15.0</td>\n",
       "      <td>13.0</td>\n",
       "      <td>5.0</td>\n",
       "      <td>10.0</td>\n",
       "      <td>13.0</td>\n",
       "      <td>â¬196.4M</td>\n",
       "    </tr>\n",
       "  </tbody>\n",
       "</table>\n",
       "<p>5 rows × 89 columns</p>\n",
       "</div>"
      ],
      "text/plain": [
       "   Unnamed: 0      ID               Name  Age  \\\n",
       "0           0  158023           L. Messi   31   \n",
       "1           1   20801  Cristiano Ronaldo   33   \n",
       "2           2  190871          Neymar Jr   26   \n",
       "3           3  193080             De Gea   27   \n",
       "4           4  192985       K. De Bruyne   27   \n",
       "\n",
       "                                            Photo Nationality  \\\n",
       "0  https://cdn.sofifa.org/players/4/19/158023.png   Argentina   \n",
       "1   https://cdn.sofifa.org/players/4/19/20801.png    Portugal   \n",
       "2  https://cdn.sofifa.org/players/4/19/190871.png      Brazil   \n",
       "3  https://cdn.sofifa.org/players/4/19/193080.png       Spain   \n",
       "4  https://cdn.sofifa.org/players/4/19/192985.png     Belgium   \n",
       "\n",
       "                                  Flag  Overall  Potential  \\\n",
       "0  https://cdn.sofifa.org/flags/52.png       94         94   \n",
       "1  https://cdn.sofifa.org/flags/38.png       94         94   \n",
       "2  https://cdn.sofifa.org/flags/54.png       92         93   \n",
       "3  https://cdn.sofifa.org/flags/45.png       91         93   \n",
       "4   https://cdn.sofifa.org/flags/7.png       91         92   \n",
       "\n",
       "                  Club  ... Composure Marking StandingTackle  SlidingTackle  \\\n",
       "0         FC Barcelona  ...      96.0    33.0           28.0           26.0   \n",
       "1             Juventus  ...      95.0    28.0           31.0           23.0   \n",
       "2  Paris Saint-Germain  ...      94.0    27.0           24.0           33.0   \n",
       "3    Manchester United  ...      68.0    15.0           21.0           13.0   \n",
       "4      Manchester City  ...      88.0    68.0           58.0           51.0   \n",
       "\n",
       "  GKDiving  GKHandling  GKKicking  GKPositioning GKReflexes Release Clause  \n",
       "0      6.0        11.0       15.0           14.0        8.0      â¬226.5M  \n",
       "1      7.0        11.0       15.0           14.0       11.0      â¬127.1M  \n",
       "2      9.0         9.0       15.0           15.0       11.0      â¬228.1M  \n",
       "3     90.0        85.0       87.0           88.0       94.0      â¬138.6M  \n",
       "4     15.0        13.0        5.0           10.0       13.0      â¬196.4M  \n",
       "\n",
       "[5 rows x 89 columns]"
      ]
     },
     "execution_count": 463,
     "metadata": {},
     "output_type": "execute_result"
    }
   ],
   "source": [
    "# Convert CSV to Pandas and examine some entries\n",
    "\n",
    "import os\n",
    "import pandas as pd\n",
    "\n",
    "def loadData():\n",
    "    soccerPath = os.path.join(\"datasets\", \"soccer\")\n",
    "    csv_path = os.path.join(soccerPath, \"fifa.csv\")\n",
    "    return pd.read_csv(csv_path, encoding = \"ISO-8859-1\")\n",
    "\n",
    "data = loadData() #Our Pandas DataFrame\n",
    "data.head()       #Displays the first 5 rows of our DataFrame"
   ]
  },
  {
   "cell_type": "code",
   "execution_count": 464,
   "metadata": {},
   "outputs": [
    {
     "data": {
      "text/html": [
       "<div>\n",
       "<style scoped>\n",
       "    .dataframe tbody tr th:only-of-type {\n",
       "        vertical-align: middle;\n",
       "    }\n",
       "\n",
       "    .dataframe tbody tr th {\n",
       "        vertical-align: top;\n",
       "    }\n",
       "\n",
       "    .dataframe thead th {\n",
       "        text-align: right;\n",
       "    }\n",
       "</style>\n",
       "<table border=\"1\" class=\"dataframe\">\n",
       "  <thead>\n",
       "    <tr style=\"text-align: right;\">\n",
       "      <th></th>\n",
       "      <th>Name</th>\n",
       "      <th>Age</th>\n",
       "      <th>Overall</th>\n",
       "      <th>Potential</th>\n",
       "      <th>Value</th>\n",
       "      <th>Wage</th>\n",
       "      <th>International Reputation</th>\n",
       "      <th>Weak Foot</th>\n",
       "      <th>Skill Moves</th>\n",
       "      <th>Release Clause</th>\n",
       "    </tr>\n",
       "  </thead>\n",
       "  <tbody>\n",
       "    <tr>\n",
       "      <th>0</th>\n",
       "      <td>L. Messi</td>\n",
       "      <td>31</td>\n",
       "      <td>94</td>\n",
       "      <td>94</td>\n",
       "      <td>â¬110.5M</td>\n",
       "      <td>â¬565K</td>\n",
       "      <td>5.0</td>\n",
       "      <td>4.0</td>\n",
       "      <td>4.0</td>\n",
       "      <td>â¬226.5M</td>\n",
       "    </tr>\n",
       "    <tr>\n",
       "      <th>1</th>\n",
       "      <td>Cristiano Ronaldo</td>\n",
       "      <td>33</td>\n",
       "      <td>94</td>\n",
       "      <td>94</td>\n",
       "      <td>â¬77M</td>\n",
       "      <td>â¬405K</td>\n",
       "      <td>5.0</td>\n",
       "      <td>4.0</td>\n",
       "      <td>5.0</td>\n",
       "      <td>â¬127.1M</td>\n",
       "    </tr>\n",
       "    <tr>\n",
       "      <th>2</th>\n",
       "      <td>Neymar Jr</td>\n",
       "      <td>26</td>\n",
       "      <td>92</td>\n",
       "      <td>93</td>\n",
       "      <td>â¬118.5M</td>\n",
       "      <td>â¬290K</td>\n",
       "      <td>5.0</td>\n",
       "      <td>5.0</td>\n",
       "      <td>5.0</td>\n",
       "      <td>â¬228.1M</td>\n",
       "    </tr>\n",
       "    <tr>\n",
       "      <th>3</th>\n",
       "      <td>De Gea</td>\n",
       "      <td>27</td>\n",
       "      <td>91</td>\n",
       "      <td>93</td>\n",
       "      <td>â¬72M</td>\n",
       "      <td>â¬260K</td>\n",
       "      <td>4.0</td>\n",
       "      <td>3.0</td>\n",
       "      <td>1.0</td>\n",
       "      <td>â¬138.6M</td>\n",
       "    </tr>\n",
       "    <tr>\n",
       "      <th>4</th>\n",
       "      <td>K. De Bruyne</td>\n",
       "      <td>27</td>\n",
       "      <td>91</td>\n",
       "      <td>92</td>\n",
       "      <td>â¬102M</td>\n",
       "      <td>â¬355K</td>\n",
       "      <td>4.0</td>\n",
       "      <td>5.0</td>\n",
       "      <td>4.0</td>\n",
       "      <td>â¬196.4M</td>\n",
       "    </tr>\n",
       "  </tbody>\n",
       "</table>\n",
       "</div>"
      ],
      "text/plain": [
       "                Name  Age  Overall  Potential      Value     Wage  \\\n",
       "0           L. Messi   31       94         94  â¬110.5M  â¬565K   \n",
       "1  Cristiano Ronaldo   33       94         94     â¬77M  â¬405K   \n",
       "2          Neymar Jr   26       92         93  â¬118.5M  â¬290K   \n",
       "3             De Gea   27       91         93     â¬72M  â¬260K   \n",
       "4       K. De Bruyne   27       91         92    â¬102M  â¬355K   \n",
       "\n",
       "   International Reputation  Weak Foot  Skill Moves Release Clause  \n",
       "0                       5.0        4.0          4.0      â¬226.5M  \n",
       "1                       5.0        4.0          5.0      â¬127.1M  \n",
       "2                       5.0        5.0          5.0      â¬228.1M  \n",
       "3                       4.0        3.0          1.0      â¬138.6M  \n",
       "4                       4.0        5.0          4.0      â¬196.4M  "
      ]
     },
     "execution_count": 464,
     "metadata": {},
     "output_type": "execute_result"
    }
   ],
   "source": [
    "# We are given the overall rating of the player, therefore we don't need indivdual attributes that are used in\n",
    "# the calculation and thus dropping columns 55 to 88. We also don't need their overalls in different positions \n",
    "# such as Messi's overall as a LB since we assume they are playing in their natural position and thus dropping \n",
    "# columns 29 to 54 as well.\n",
    "#\n",
    "# Photo, flag and club logo columns contain links to images, these columns (5,7,11) are not needed either.\n",
    "#\n",
    "# Removing other irrelevant information. Years left in contract, height, weight, body type etc.\n",
    "\n",
    "s1 = data.columns.to_series()[28:88]\n",
    "s2 = data.columns.to_series()[[4,6,10]]\n",
    "s3 = data.columns.to_series()[[0,1,5,9,13,14,18,19,20,22,23,24,25]]\n",
    "s3 = pd.concat([s1,s2,s3])\n",
    "data.drop(s3, axis=1, inplace=True)\n",
    "data = data.drop(data[data.Value == 0].index)\n",
    "data = data.drop(data[data.Wage == 0].index)\n",
    "data = data.drop(\"Height\", axis = 1)\n",
    "data = data.drop(\"Weight\", axis = 1)\n",
    "data = data.drop(\"Position\", axis = 1)\n",
    "\n",
    "data.head() "
   ]
  },
  {
   "cell_type": "code",
   "execution_count": 465,
   "metadata": {},
   "outputs": [],
   "source": [
    "#Converting monetary features to strictly numerical values\n",
    "\n",
    "def toInt(val):\n",
    "    val = str(val)\n",
    "    if val[-1:] == \"M\":\n",
    "        return (float(val[3:-1]))\n",
    "    elif val[-1:] == \"K\":\n",
    "        return (float(val[3:-1]) / 1000)\n",
    "    else:\n",
    "        return 0\n",
    "    \n",
    "data['Value'] = data['Value'].apply(toInt)\n",
    "data['Wage'] = data['Wage'].apply(toInt)\n",
    "data['Release Clause'] = data['Release Clause'].apply(toInt)"
   ]
  },
  {
   "cell_type": "code",
   "execution_count": 466,
   "metadata": {
    "scrolled": true
   },
   "outputs": [
    {
     "data": {
      "text/plain": [
       "Value                       1.000000\n",
       "Release Clause              0.967255\n",
       "Wage                        0.858442\n",
       "International Reputation    0.653176\n",
       "Overall                     0.627085\n",
       "Potential                   0.576218\n",
       "Skill Moves                 0.315651\n",
       "Weak Foot                   0.165221\n",
       "Age                         0.075022\n",
       "Potential_Left             -0.147035\n",
       "Name: Value, dtype: float64"
      ]
     },
     "execution_count": 466,
     "metadata": {},
     "output_type": "execute_result"
    }
   ],
   "source": [
    "#Creating a new feature, Potential Left. Which describes how much growth a player has left in their career.\n",
    "# Displying correlation matrix for Value\n",
    "data[\"Potential_Left\"] = data[\"Potential\"] - data[\"Overall\"]\n",
    "corr_matrix = data.corr()\n",
    "corr_matrix[\"Value\"].sort_values(ascending=False)"
   ]
  },
  {
   "cell_type": "code",
   "execution_count": 467,
   "metadata": {},
   "outputs": [],
   "source": [
    "# Some entries have null values for certain features, dropping these all together\n",
    "\n",
    "data = data[np.isfinite(data['Skill Moves'])]\n",
    "data = data[np.isfinite(data['International Reputation'])]\n",
    "data = data[np.isfinite(data['Weak Foot'])]"
   ]
  },
  {
   "cell_type": "code",
   "execution_count": 468,
   "metadata": {},
   "outputs": [],
   "source": [
    "#Splitting into stratified test and train sets with a test size of 25%\n",
    "\n",
    "from sklearn.model_selection import train_test_split\n",
    "\n",
    "train_set, test_set = train_test_split(data, test_size=0.25, random_state=42)\n",
    "\n",
    "train_labels = train_set[\"Value\"].copy() \n",
    "test_labels = test_set[\"Value\"].copy() \n",
    "train_set = train_set.drop(\"Value\", axis = 1)\n",
    "test_set = test_set.drop(\"Value\", axis = 1)\n",
    "train_set = train_set.drop(\"Name\", axis = 1)\n",
    "test_set = test_set.drop(\"Name\", axis = 1)"
   ]
  },
  {
   "cell_type": "code",
   "execution_count": 469,
   "metadata": {},
   "outputs": [
    {
     "data": {
      "text/plain": [
       "['Age',\n",
       " 'Overall',\n",
       " 'Potential',\n",
       " 'Wage',\n",
       " 'International Reputation',\n",
       " 'Weak Foot',\n",
       " 'Skill Moves',\n",
       " 'Release Clause',\n",
       " 'Potential_Left']"
      ]
     },
     "execution_count": 469,
     "metadata": {},
     "output_type": "execute_result"
    }
   ],
   "source": [
    "num_attribs # These are our features the model will make use of"
   ]
  },
  {
   "cell_type": "code",
   "execution_count": 470,
   "metadata": {},
   "outputs": [
    {
     "name": "stderr",
     "output_type": "stream",
     "text": [
      "/home/ninos/.local/lib/python3.7/site-packages/sklearn/preprocessing/data.py:645: DataConversionWarning: Data with input dtype int64, float64 were all converted to float64 by StandardScaler.\n",
      "  return self.partial_fit(X, y)\n",
      "/home/ninos/.local/lib/python3.7/site-packages/sklearn/base.py:464: DataConversionWarning: Data with input dtype int64, float64 were all converted to float64 by StandardScaler.\n",
      "  return self.fit(X, **fit_params).transform(X)\n",
      "/home/ninos/.local/lib/python3.7/site-packages/sklearn/preprocessing/data.py:645: DataConversionWarning: Data with input dtype int64, float64 were all converted to float64 by StandardScaler.\n",
      "  return self.partial_fit(X, y)\n",
      "/home/ninos/.local/lib/python3.7/site-packages/sklearn/base.py:464: DataConversionWarning: Data with input dtype int64, float64 were all converted to float64 by StandardScaler.\n",
      "  return self.fit(X, **fit_params).transform(X)\n"
     ]
    }
   ],
   "source": [
    "# Creating a pipeline to transform our data. Includes standard scaler to scale features.\n",
    "\n",
    "from sklearn.compose import ColumnTransformer\n",
    "from sklearn.pipeline import Pipeline\n",
    "from sklearn.preprocessing import StandardScaler\n",
    "\n",
    "num_attribs = list(train_set)\n",
    "\n",
    "num_pipeline = Pipeline([\n",
    "        ('std_scaler', StandardScaler()),\n",
    "    ])\n",
    "\n",
    "full_pipeline = ColumnTransformer([\n",
    "        (\"num\", num_pipeline, num_attribs),\n",
    "    ])\n",
    "\n",
    "train_prepared = full_pipeline.fit_transform(train_set)\n",
    "test_prepared = full_pipeline.fit_transform(test_set)"
   ]
  },
  {
   "cell_type": "code",
   "execution_count": 471,
   "metadata": {},
   "outputs": [
    {
     "data": {
      "text/plain": [
       "array([[ 0.40306649,  0.97325407,  0.27047993, ...,  0.83441355,\n",
       "         0.19621815, -0.93469614],\n",
       "       [-0.88204706, -1.04706668, -0.70326211, ..., -1.79580937,\n",
       "        -0.37052274,  0.5379585 ],\n",
       "       [-0.23949029, -1.04706668, -0.86555245, ..., -0.48069791,\n",
       "        -0.36646245,  0.35387667],\n",
       "       ...,\n",
       "       [-0.88204706,  0.5403282 ,  0.75735094, ...,  0.83441355,\n",
       "         0.03569507,  0.16979484],\n",
       "       [ 1.04562327,  1.6947972 ,  1.08193162, ...,  2.149525  ,\n",
       "         1.4898453 , -0.93469614],\n",
       "       [-1.52460384, -1.19137531,  0.75735094, ..., -0.48069791,\n",
       "        -0.3390791 ,  2.37877681]])"
      ]
     },
     "execution_count": 471,
     "metadata": {},
     "output_type": "execute_result"
    }
   ],
   "source": [
    "train_prepared"
   ]
  },
  {
   "cell_type": "code",
   "execution_count": 472,
   "metadata": {},
   "outputs": [
    {
     "data": {
      "text/plain": [
       "2694      4.200\n",
       "15486     0.170\n",
       "15606     0.220\n",
       "4610      2.400\n",
       "11626     0.575\n",
       "14148     0.500\n",
       "12783     0.575\n",
       "15405     0.220\n",
       "8759      1.000\n",
       "15425     0.230\n",
       "16448     0.140\n",
       "16501     0.170\n",
       "13637     0.325\n",
       "7172      0.950\n",
       "7341      0.800\n",
       "2213      8.500\n",
       "11509     0.270\n",
       "11437     0.425\n",
       "11575     0.475\n",
       "5290      1.600\n",
       "9378      0.750\n",
       "2348      6.000\n",
       "9039      0.425\n",
       "11038     0.675\n",
       "10212     0.550\n",
       "13130     0.550\n",
       "11856     0.475\n",
       "9022      1.100\n",
       "5431      1.800\n",
       "17541     0.120\n",
       "          ...  \n",
       "3890      3.400\n",
       "3556      3.900\n",
       "11394     0.625\n",
       "17960     0.040\n",
       "1267      8.500\n",
       "1899      7.500\n",
       "3005      5.500\n",
       "189      24.000\n",
       "2747      5.500\n",
       "8666      0.500\n",
       "6396      1.300\n",
       "17616     0.090\n",
       "6420      1.400\n",
       "5051      0.000\n",
       "5311      0.875\n",
       "2433      5.000\n",
       "769      10.500\n",
       "1685      6.000\n",
       "8322      0.725\n",
       "16071     0.030\n",
       "11363     0.600\n",
       "14471     0.325\n",
       "4426      2.800\n",
       "16898     0.120\n",
       "6265      1.200\n",
       "11284     0.575\n",
       "11964     0.675\n",
       "5390      2.400\n",
       "860       9.500\n",
       "15843     0.260\n",
       "Name: Value, Length: 13619, dtype: float64"
      ]
     },
     "execution_count": 472,
     "metadata": {},
     "output_type": "execute_result"
    }
   ],
   "source": [
    "train_labels"
   ]
  },
  {
   "cell_type": "code",
   "execution_count": 473,
   "metadata": {},
   "outputs": [
    {
     "data": {
      "text/plain": [
       "LinearRegression(copy_X=True, fit_intercept=True, n_jobs=None,\n",
       "         normalize=False)"
      ]
     },
     "execution_count": 473,
     "metadata": {},
     "output_type": "execute_result"
    }
   ],
   "source": [
    "#Creating Model\n",
    "\n",
    "from sklearn.linear_model import LinearRegression\n",
    "\n",
    "lin_reg = LinearRegression()\n",
    "lin_reg.fit(train_prepared, train_labels)"
   ]
  },
  {
   "cell_type": "code",
   "execution_count": 474,
   "metadata": {},
   "outputs": [
    {
     "data": {
      "text/plain": [
       "0.49316434282658916"
      ]
     },
     "execution_count": 474,
     "metadata": {},
     "output_type": "execute_result"
    }
   ],
   "source": [
    "# Testing and displaying mean absolute error in prediction\n",
    "from sklearn.metrics import mean_absolute_error\n",
    "\n",
    "predictions = lin_reg.predict(test_prepared)\n",
    "lin_mae = mean_absolute_error(test_labels, predictions)\n",
    "lin_mae "
   ]
  },
  {
   "cell_type": "code",
   "execution_count": 475,
   "metadata": {},
   "outputs": [
    {
     "data": {
      "text/plain": [
       "112.48540849407293"
      ]
     },
     "execution_count": 475,
     "metadata": {},
     "output_type": "execute_result"
    }
   ],
   "source": [
    "#Lets see what it predicts Messi's value to be\n",
    "predictions[2313]"
   ]
  },
  {
   "cell_type": "code",
   "execution_count": 476,
   "metadata": {},
   "outputs": [
    {
     "data": {
      "text/plain": [
       "110.5"
      ]
     },
     "execution_count": 476,
     "metadata": {},
     "output_type": "execute_result"
    }
   ],
   "source": [
    "# Messi's actual value (millions of euros)\n",
    "test_labels.iloc[2313]"
   ]
  }
 ],
 "metadata": {
  "kernelspec": {
   "display_name": "Python 3",
   "language": "python",
   "name": "python3"
  },
  "language_info": {
   "codemirror_mode": {
    "name": "ipython",
    "version": 3
   },
   "file_extension": ".py",
   "mimetype": "text/x-python",
   "name": "python",
   "nbconvert_exporter": "python",
   "pygments_lexer": "ipython3",
   "version": "3.7.3"
  }
 },
 "nbformat": 4,
 "nbformat_minor": 2
}
